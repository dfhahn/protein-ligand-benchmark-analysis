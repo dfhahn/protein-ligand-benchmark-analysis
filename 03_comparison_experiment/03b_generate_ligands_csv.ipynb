{
 "cells": [
  {
   "cell_type": "code",
   "execution_count": 1,
   "id": "8e23776f",
   "metadata": {},
   "outputs": [
    {
     "name": "stderr",
     "output_type": "stream",
     "text": [
      "Warning: Unable to load toolkit 'OpenEye Toolkit'. The Open Force Field Toolkit does not require the OpenEye Toolkits, and can use RDKit/AmberTools instead. However, if you have a valid license for the OpenEye Toolkits, consider installing them for faster performance and additional file format support: https://docs.eyesopen.com/toolkits/python/quickstart-python/linuxosx.html OpenEye offers free Toolkit licenses for academics: https://www.eyesopen.com/academic-licensing\n",
      "warning: inexact rename detection was skipped due to too many files.\n",
      "warning: you may want to set your diff.renameLimit variable to at least 69143 and retry the command.\n"
     ]
    }
   ],
   "source": [
    "import os\n",
    "import sys\n",
    "sys.path.append(os.path.join(os.getcwd(), '..'))\n",
    "\n",
    "import yaml\n",
    "\n",
    "import numpy as np\n",
    "import pandas as pd\n",
    "\n",
    "import tempfile\n",
    "from arsenic import wrangle\n",
    "from arsenic import plotting, stats\n",
    "\n",
    "from PLBenchmarks import targets, ligands, edges\n",
    "\n",
    "from tqdm.notebook import tqdm\n",
    "import pint\n",
    "unit_registry = pint.UnitRegistry()\n",
    "\n",
    "import benchmarkpl\n",
    "path = benchmarkpl.__path__[0]\n",
    "targets.set_data_dir(path)"
   ]
  },
  {
   "cell_type": "code",
   "execution_count": 2,
   "id": "e6578f48",
   "metadata": {},
   "outputs": [
    {
     "data": {
      "text/html": [
       "<div>\n",
       "<style scoped>\n",
       "    .dataframe tbody tr th:only-of-type {\n",
       "        vertical-align: middle;\n",
       "    }\n",
       "\n",
       "    .dataframe tbody tr th {\n",
       "        vertical-align: top;\n",
       "    }\n",
       "\n",
       "    .dataframe thead th {\n",
       "        text-align: right;\n",
       "    }\n",
       "</style>\n",
       "<table border=\"1\" class=\"dataframe\">\n",
       "  <thead>\n",
       "    <tr style=\"text-align: right;\">\n",
       "      <th></th>\n",
       "      <th>target</th>\n",
       "      <th>edge</th>\n",
       "      <th>ligandA</th>\n",
       "      <th>ligandB</th>\n",
       "      <th>unit</th>\n",
       "      <th>DDG_Exp.</th>\n",
       "      <th>dDDG_Exp.</th>\n",
       "      <th>DDG_OpenFF-1.0</th>\n",
       "      <th>dDDG_OpenFF-1.0</th>\n",
       "      <th>DDG_OpenFF-1.0_converged</th>\n",
       "      <th>...</th>\n",
       "      <th>error_GAFF2</th>\n",
       "      <th>abserror_GAFF2</th>\n",
       "      <th>error_cGenFF</th>\n",
       "      <th>abserror_cGenFF</th>\n",
       "      <th>error_Consensus_OpenFF_GAFF2_cGenFF</th>\n",
       "      <th>abserror_Consensus_OpenFF_GAFF2_cGenFF</th>\n",
       "      <th>error_Consensus_OpenFF_GAFF2</th>\n",
       "      <th>abserror_Consensus_OpenFF_GAFF2</th>\n",
       "      <th>error_Consensus_all</th>\n",
       "      <th>abserror_Consensus_all</th>\n",
       "    </tr>\n",
       "  </thead>\n",
       "  <tbody>\n",
       "    <tr>\n",
       "      <th>jnk1_edge_17124-1_18631-1</th>\n",
       "      <td>jnk1</td>\n",
       "      <td>edge_17124-1_18631-1</td>\n",
       "      <td>17124-1</td>\n",
       "      <td>18631-1</td>\n",
       "      <td>kilocalories / mole</td>\n",
       "      <td>0.26</td>\n",
       "      <td>0.37</td>\n",
       "      <td>1.190000</td>\n",
       "      <td>0.096086</td>\n",
       "      <td>1.190000</td>\n",
       "      <td>...</td>\n",
       "      <td>1.071262</td>\n",
       "      <td>1.071262</td>\n",
       "      <td>0.516769</td>\n",
       "      <td>0.516769</td>\n",
       "      <td>0.646112</td>\n",
       "      <td>0.646112</td>\n",
       "      <td>0.784876</td>\n",
       "      <td>0.784876</td>\n",
       "      <td>1.222263</td>\n",
       "      <td>1.222263</td>\n",
       "    </tr>\n",
       "    <tr>\n",
       "      <th>jnk1_edge_17124-1_18634-1</th>\n",
       "      <td>jnk1</td>\n",
       "      <td>edge_17124-1_18634-1</td>\n",
       "      <td>17124-1</td>\n",
       "      <td>18634-1</td>\n",
       "      <td>kilocalories / mole</td>\n",
       "      <td>-0.33</td>\n",
       "      <td>0.29</td>\n",
       "      <td>0.580000</td>\n",
       "      <td>0.128639</td>\n",
       "      <td>0.580000</td>\n",
       "      <td>...</td>\n",
       "      <td>0.829522</td>\n",
       "      <td>0.829522</td>\n",
       "      <td>0.580956</td>\n",
       "      <td>0.580956</td>\n",
       "      <td>0.852556</td>\n",
       "      <td>0.852556</td>\n",
       "      <td>0.928604</td>\n",
       "      <td>0.928604</td>\n",
       "      <td>0.798413</td>\n",
       "      <td>0.798413</td>\n",
       "    </tr>\n",
       "    <tr>\n",
       "      <th>jnk1_edge_18626-1_18624-1</th>\n",
       "      <td>jnk1</td>\n",
       "      <td>edge_18626-1_18624-1</td>\n",
       "      <td>18626-1</td>\n",
       "      <td>18624-1</td>\n",
       "      <td>kilocalories / mole</td>\n",
       "      <td>0.38</td>\n",
       "      <td>0.21</td>\n",
       "      <td>0.556667</td>\n",
       "      <td>0.099301</td>\n",
       "      <td>0.556667</td>\n",
       "      <td>...</td>\n",
       "      <td>0.745717</td>\n",
       "      <td>0.745717</td>\n",
       "      <td>-0.265277</td>\n",
       "      <td>0.265277</td>\n",
       "      <td>0.309516</td>\n",
       "      <td>0.309516</td>\n",
       "      <td>0.616033</td>\n",
       "      <td>0.616033</td>\n",
       "      <td>0.446727</td>\n",
       "      <td>0.446727</td>\n",
       "    </tr>\n",
       "    <tr>\n",
       "      <th>jnk1_edge_18626-1_18625-1</th>\n",
       "      <td>jnk1</td>\n",
       "      <td>edge_18626-1_18625-1</td>\n",
       "      <td>18626-1</td>\n",
       "      <td>18625-1</td>\n",
       "      <td>kilocalories / mole</td>\n",
       "      <td>0.77</td>\n",
       "      <td>0.21</td>\n",
       "      <td>-0.030000</td>\n",
       "      <td>0.107462</td>\n",
       "      <td>-0.030000</td>\n",
       "      <td>...</td>\n",
       "      <td>-0.062543</td>\n",
       "      <td>0.062543</td>\n",
       "      <td>-0.294379</td>\n",
       "      <td>0.294379</td>\n",
       "      <td>-0.388337</td>\n",
       "      <td>0.388337</td>\n",
       "      <td>-0.155679</td>\n",
       "      <td>0.155679</td>\n",
       "      <td>0.143932</td>\n",
       "      <td>0.143932</td>\n",
       "    </tr>\n",
       "    <tr>\n",
       "      <th>jnk1_edge_18626-1_18627-1</th>\n",
       "      <td>jnk1</td>\n",
       "      <td>edge_18626-1_18627-1</td>\n",
       "      <td>18626-1</td>\n",
       "      <td>18627-1</td>\n",
       "      <td>kilocalories / mole</td>\n",
       "      <td>0.39</td>\n",
       "      <td>0.22</td>\n",
       "      <td>0.140000</td>\n",
       "      <td>0.046151</td>\n",
       "      <td>0.140000</td>\n",
       "      <td>...</td>\n",
       "      <td>0.042600</td>\n",
       "      <td>0.042600</td>\n",
       "      <td>-0.232256</td>\n",
       "      <td>0.232256</td>\n",
       "      <td>-0.020344</td>\n",
       "      <td>0.020344</td>\n",
       "      <td>0.064101</td>\n",
       "      <td>0.064101</td>\n",
       "      <td>-0.124060</td>\n",
       "      <td>0.124060</td>\n",
       "    </tr>\n",
       "  </tbody>\n",
       "</table>\n",
       "<p>5 rows × 55 columns</p>\n",
       "</div>"
      ],
      "text/plain": [
       "                          target                  edge  ligandA  ligandB  \\\n",
       "jnk1_edge_17124-1_18631-1   jnk1  edge_17124-1_18631-1  17124-1  18631-1   \n",
       "jnk1_edge_17124-1_18634-1   jnk1  edge_17124-1_18634-1  17124-1  18634-1   \n",
       "jnk1_edge_18626-1_18624-1   jnk1  edge_18626-1_18624-1  18626-1  18624-1   \n",
       "jnk1_edge_18626-1_18625-1   jnk1  edge_18626-1_18625-1  18626-1  18625-1   \n",
       "jnk1_edge_18626-1_18627-1   jnk1  edge_18626-1_18627-1  18626-1  18627-1   \n",
       "\n",
       "                                          unit  DDG_Exp.  dDDG_Exp.  \\\n",
       "jnk1_edge_17124-1_18631-1  kilocalories / mole      0.26       0.37   \n",
       "jnk1_edge_17124-1_18634-1  kilocalories / mole     -0.33       0.29   \n",
       "jnk1_edge_18626-1_18624-1  kilocalories / mole      0.38       0.21   \n",
       "jnk1_edge_18626-1_18625-1  kilocalories / mole      0.77       0.21   \n",
       "jnk1_edge_18626-1_18627-1  kilocalories / mole      0.39       0.22   \n",
       "\n",
       "                           DDG_OpenFF-1.0  dDDG_OpenFF-1.0  \\\n",
       "jnk1_edge_17124-1_18631-1        1.190000         0.096086   \n",
       "jnk1_edge_17124-1_18634-1        0.580000         0.128639   \n",
       "jnk1_edge_18626-1_18624-1        0.556667         0.099301   \n",
       "jnk1_edge_18626-1_18625-1       -0.030000         0.107462   \n",
       "jnk1_edge_18626-1_18627-1        0.140000         0.046151   \n",
       "\n",
       "                           DDG_OpenFF-1.0_converged  ...  error_GAFF2  \\\n",
       "jnk1_edge_17124-1_18631-1                  1.190000  ...     1.071262   \n",
       "jnk1_edge_17124-1_18634-1                  0.580000  ...     0.829522   \n",
       "jnk1_edge_18626-1_18624-1                  0.556667  ...     0.745717   \n",
       "jnk1_edge_18626-1_18625-1                 -0.030000  ...    -0.062543   \n",
       "jnk1_edge_18626-1_18627-1                  0.140000  ...     0.042600   \n",
       "\n",
       "                           abserror_GAFF2  error_cGenFF  abserror_cGenFF  \\\n",
       "jnk1_edge_17124-1_18631-1        1.071262      0.516769         0.516769   \n",
       "jnk1_edge_17124-1_18634-1        0.829522      0.580956         0.580956   \n",
       "jnk1_edge_18626-1_18624-1        0.745717     -0.265277         0.265277   \n",
       "jnk1_edge_18626-1_18625-1        0.062543     -0.294379         0.294379   \n",
       "jnk1_edge_18626-1_18627-1        0.042600     -0.232256         0.232256   \n",
       "\n",
       "                           error_Consensus_OpenFF_GAFF2_cGenFF  \\\n",
       "jnk1_edge_17124-1_18631-1                             0.646112   \n",
       "jnk1_edge_17124-1_18634-1                             0.852556   \n",
       "jnk1_edge_18626-1_18624-1                             0.309516   \n",
       "jnk1_edge_18626-1_18625-1                            -0.388337   \n",
       "jnk1_edge_18626-1_18627-1                            -0.020344   \n",
       "\n",
       "                           abserror_Consensus_OpenFF_GAFF2_cGenFF  \\\n",
       "jnk1_edge_17124-1_18631-1                                0.646112   \n",
       "jnk1_edge_17124-1_18634-1                                0.852556   \n",
       "jnk1_edge_18626-1_18624-1                                0.309516   \n",
       "jnk1_edge_18626-1_18625-1                                0.388337   \n",
       "jnk1_edge_18626-1_18627-1                                0.020344   \n",
       "\n",
       "                           error_Consensus_OpenFF_GAFF2  \\\n",
       "jnk1_edge_17124-1_18631-1                      0.784876   \n",
       "jnk1_edge_17124-1_18634-1                      0.928604   \n",
       "jnk1_edge_18626-1_18624-1                      0.616033   \n",
       "jnk1_edge_18626-1_18625-1                     -0.155679   \n",
       "jnk1_edge_18626-1_18627-1                      0.064101   \n",
       "\n",
       "                           abserror_Consensus_OpenFF_GAFF2  \\\n",
       "jnk1_edge_17124-1_18631-1                         0.784876   \n",
       "jnk1_edge_17124-1_18634-1                         0.928604   \n",
       "jnk1_edge_18626-1_18624-1                         0.616033   \n",
       "jnk1_edge_18626-1_18625-1                         0.155679   \n",
       "jnk1_edge_18626-1_18627-1                         0.064101   \n",
       "\n",
       "                           error_Consensus_all  abserror_Consensus_all  \n",
       "jnk1_edge_17124-1_18631-1             1.222263                1.222263  \n",
       "jnk1_edge_17124-1_18634-1             0.798413                0.798413  \n",
       "jnk1_edge_18626-1_18624-1             0.446727                0.446727  \n",
       "jnk1_edge_18626-1_18625-1             0.143932                0.143932  \n",
       "jnk1_edge_18626-1_18627-1            -0.124060                0.124060  \n",
       "\n",
       "[5 rows x 55 columns]"
      ]
     },
     "execution_count": 2,
     "metadata": {},
     "output_type": "execute_result"
    }
   ],
   "source": [
    "all_edges = pd.read_csv('03a_all_edges_all_ffs.csv', index_col=0)\n",
    "all_edges.head()"
   ]
  },
  {
   "cell_type": "code",
   "execution_count": 3,
   "id": "b7c6af4e",
   "metadata": {},
   "outputs": [
    {
     "data": {
      "text/plain": [
       "['Exp.',\n",
       " 'OpenFF-1.0',\n",
       " 'OpenFF-1.0_converged',\n",
       " 'OpenFF-1.2',\n",
       " 'OpenFF-1.2_converged',\n",
       " 'OpenFF-2.0',\n",
       " 'OpenFF-2.0_converged',\n",
       " 'OPLS3e',\n",
       " 'GAFF2',\n",
       " 'cGenFF',\n",
       " 'Consensus_OpenFF_GAFF2_cGenFF',\n",
       " 'Consensus_OpenFF_GAFF2',\n",
       " 'Consensus_all']"
      ]
     },
     "execution_count": 3,
     "metadata": {},
     "output_type": "execute_result"
    }
   ],
   "source": [
    "identifiers = [idx[4:] for idx in all_edges.columns if idx.startswith(\"DDG\")]\n",
    "identifiers"
   ]
  },
  {
   "cell_type": "code",
   "execution_count": 4,
   "id": "8dac2f2d",
   "metadata": {},
   "outputs": [
    {
     "data": {
      "application/vnd.jupyter.widget-view+json": {
       "model_id": "1195331848b94c82801b1a157740fa62",
       "version_major": 2,
       "version_minor": 0
      },
      "text/plain": [
       "  0%|          | 0/22 [00:00<?, ?it/s]"
      ]
     },
     "metadata": {},
     "output_type": "display_data"
    },
    {
     "name": "stderr",
     "output_type": "stream",
     "text": [
      "/home/dhahn3/miniconda3/envs/off/lib/python3.7/site-packages/pandas/core/dtypes/cast.py:1638: UnitStrippedWarning: The unit of the quantity is stripped when downcasting to ndarray.\n",
      "  result[:] = values\n"
     ]
    },
    {
     "data": {
      "application/vnd.jupyter.widget-view+json": {
       "model_id": "",
       "version_major": 2,
       "version_minor": 0
      },
      "text/plain": [
       "  0%|          | 0/12 [00:00<?, ?it/s]"
      ]
     },
     "metadata": {},
     "output_type": "display_data"
    },
    {
     "name": "stdout",
     "output_type": "stream",
     "text": [
      "Generating the FEMap for target jnk1 with data OpenFF-1.2 was not possible. division by zero\n",
      "Generating the FEMap for target jnk1 with data OpenFF-1.2_converged was not possible. division by zero\n"
     ]
    },
    {
     "data": {
      "application/vnd.jupyter.widget-view+json": {
       "model_id": "",
       "version_major": 2,
       "version_minor": 0
      },
      "text/plain": [
       "  0%|          | 0/12 [00:00<?, ?it/s]"
      ]
     },
     "metadata": {},
     "output_type": "display_data"
    },
    {
     "name": "stdout",
     "output_type": "stream",
     "text": [
      "Generating the FEMap for target pde2 with data OpenFF-1.2 was not possible. division by zero\n",
      "Generating the FEMap for target pde2 with data OpenFF-1.2_converged was not possible. division by zero\n",
      "Graph is not connected enough to compute absolute values\n"
     ]
    },
    {
     "data": {
      "application/vnd.jupyter.widget-view+json": {
       "model_id": "",
       "version_major": 2,
       "version_minor": 0
      },
      "text/plain": [
       "  0%|          | 0/12 [00:00<?, ?it/s]"
      ]
     },
     "metadata": {},
     "output_type": "display_data"
    },
    {
     "name": "stdout",
     "output_type": "stream",
     "text": [
      "Generating the FEMap for target thrombin with data OpenFF-1.2 was not possible. division by zero\n",
      "Generating the FEMap for target thrombin with data OpenFF-1.2_converged was not possible. division by zero\n"
     ]
    },
    {
     "data": {
      "application/vnd.jupyter.widget-view+json": {
       "model_id": "",
       "version_major": 2,
       "version_minor": 0
      },
      "text/plain": [
       "  0%|          | 0/12 [00:00<?, ?it/s]"
      ]
     },
     "metadata": {},
     "output_type": "display_data"
    },
    {
     "name": "stdout",
     "output_type": "stream",
     "text": [
      "Generating the FEMap for target p38 with data OpenFF-1.2 was not possible. division by zero\n",
      "Generating the FEMap for target p38 with data OpenFF-1.2_converged was not possible. division by zero\n"
     ]
    },
    {
     "data": {
      "application/vnd.jupyter.widget-view+json": {
       "model_id": "",
       "version_major": 2,
       "version_minor": 0
      },
      "text/plain": [
       "  0%|          | 0/12 [00:00<?, ?it/s]"
      ]
     },
     "metadata": {},
     "output_type": "display_data"
    },
    {
     "name": "stdout",
     "output_type": "stream",
     "text": [
      "Generating the FEMap for target ptp1b with data OpenFF-1.2 was not possible. division by zero\n",
      "Generating the FEMap for target ptp1b with data OpenFF-1.2_converged was not possible. division by zero\n"
     ]
    },
    {
     "data": {
      "application/vnd.jupyter.widget-view+json": {
       "model_id": "",
       "version_major": 2,
       "version_minor": 0
      },
      "text/plain": [
       "  0%|          | 0/12 [00:00<?, ?it/s]"
      ]
     },
     "metadata": {},
     "output_type": "display_data"
    },
    {
     "name": "stdout",
     "output_type": "stream",
     "text": [
      "Generating the FEMap for target galectin with data OpenFF-1.2 was not possible. division by zero\n",
      "Generating the FEMap for target galectin with data OpenFF-1.2_converged was not possible. division by zero\n"
     ]
    },
    {
     "data": {
      "application/vnd.jupyter.widget-view+json": {
       "model_id": "",
       "version_major": 2,
       "version_minor": 0
      },
      "text/plain": [
       "  0%|          | 0/12 [00:00<?, ?it/s]"
      ]
     },
     "metadata": {},
     "output_type": "display_data"
    },
    {
     "name": "stdout",
     "output_type": "stream",
     "text": [
      "Generating the FEMap for target cdk2 with data OpenFF-1.2 was not possible. division by zero\n",
      "Generating the FEMap for target cdk2 with data OpenFF-1.2_converged was not possible. division by zero\n"
     ]
    },
    {
     "data": {
      "application/vnd.jupyter.widget-view+json": {
       "model_id": "",
       "version_major": 2,
       "version_minor": 0
      },
      "text/plain": [
       "  0%|          | 0/12 [00:00<?, ?it/s]"
      ]
     },
     "metadata": {},
     "output_type": "display_data"
    },
    {
     "data": {
      "application/vnd.jupyter.widget-view+json": {
       "model_id": "",
       "version_major": 2,
       "version_minor": 0
      },
      "text/plain": [
       "  0%|          | 0/12 [00:00<?, ?it/s]"
      ]
     },
     "metadata": {},
     "output_type": "display_data"
    },
    {
     "name": "stdout",
     "output_type": "stream",
     "text": [
      "Generating the FEMap for target mcl1 with data OpenFF-1.2 was not possible. division by zero\n",
      "Generating the FEMap for target mcl1 with data OpenFF-1.2_converged was not possible. division by zero\n"
     ]
    },
    {
     "data": {
      "application/vnd.jupyter.widget-view+json": {
       "model_id": "",
       "version_major": 2,
       "version_minor": 0
      },
      "text/plain": [
       "  0%|          | 0/12 [00:00<?, ?it/s]"
      ]
     },
     "metadata": {},
     "output_type": "display_data"
    },
    {
     "name": "stdout",
     "output_type": "stream",
     "text": [
      "Generating the FEMap for target bace with data OpenFF-1.2 was not possible. division by zero\n",
      "Generating the FEMap for target bace with data OpenFF-1.2_converged was not possible. division by zero\n"
     ]
    },
    {
     "data": {
      "application/vnd.jupyter.widget-view+json": {
       "model_id": "",
       "version_major": 2,
       "version_minor": 0
      },
      "text/plain": [
       "  0%|          | 0/12 [00:00<?, ?it/s]"
      ]
     },
     "metadata": {},
     "output_type": "display_data"
    },
    {
     "name": "stdout",
     "output_type": "stream",
     "text": [
      "Generating the FEMap for target bace_hunt with data OpenFF-1.2 was not possible. division by zero\n",
      "Generating the FEMap for target bace_hunt with data OpenFF-1.2_converged was not possible. division by zero\n"
     ]
    },
    {
     "data": {
      "application/vnd.jupyter.widget-view+json": {
       "model_id": "",
       "version_major": 2,
       "version_minor": 0
      },
      "text/plain": [
       "  0%|          | 0/12 [00:00<?, ?it/s]"
      ]
     },
     "metadata": {},
     "output_type": "display_data"
    },
    {
     "name": "stdout",
     "output_type": "stream",
     "text": [
      "Generating the FEMap for target bace_p2 with data OpenFF-1.2 was not possible. division by zero\n",
      "Generating the FEMap for target bace_p2 with data OpenFF-1.2_converged was not possible. division by zero\n"
     ]
    },
    {
     "data": {
      "application/vnd.jupyter.widget-view+json": {
       "model_id": "",
       "version_major": 2,
       "version_minor": 0
      },
      "text/plain": [
       "  0%|          | 0/12 [00:00<?, ?it/s]"
      ]
     },
     "metadata": {},
     "output_type": "display_data"
    },
    {
     "name": "stdout",
     "output_type": "stream",
     "text": [
      "Generating the FEMap for target tyk2 with data OpenFF-1.2 was not possible. division by zero\n",
      "Generating the FEMap for target tyk2 with data OpenFF-1.2_converged was not possible. division by zero\n"
     ]
    },
    {
     "data": {
      "application/vnd.jupyter.widget-view+json": {
       "model_id": "",
       "version_major": 2,
       "version_minor": 0
      },
      "text/plain": [
       "  0%|          | 0/12 [00:00<?, ?it/s]"
      ]
     },
     "metadata": {},
     "output_type": "display_data"
    },
    {
     "name": "stdout",
     "output_type": "stream",
     "text": [
      "Generating the FEMap for target ros1 with data OpenFF-1.2 was not possible. division by zero\n",
      "Generating the FEMap for target ros1 with data OpenFF-1.2_converged was not possible. division by zero\n"
     ]
    },
    {
     "data": {
      "application/vnd.jupyter.widget-view+json": {
       "model_id": "",
       "version_major": 2,
       "version_minor": 0
      },
      "text/plain": [
       "  0%|          | 0/12 [00:00<?, ?it/s]"
      ]
     },
     "metadata": {},
     "output_type": "display_data"
    },
    {
     "name": "stdout",
     "output_type": "stream",
     "text": [
      "Graph is not connected enough to compute absolute values\n"
     ]
    },
    {
     "data": {
      "application/vnd.jupyter.widget-view+json": {
       "model_id": "",
       "version_major": 2,
       "version_minor": 0
      },
      "text/plain": [
       "  0%|          | 0/12 [00:00<?, ?it/s]"
      ]
     },
     "metadata": {},
     "output_type": "display_data"
    },
    {
     "data": {
      "application/vnd.jupyter.widget-view+json": {
       "model_id": "",
       "version_major": 2,
       "version_minor": 0
      },
      "text/plain": [
       "  0%|          | 0/12 [00:00<?, ?it/s]"
      ]
     },
     "metadata": {},
     "output_type": "display_data"
    },
    {
     "data": {
      "application/vnd.jupyter.widget-view+json": {
       "model_id": "",
       "version_major": 2,
       "version_minor": 0
      },
      "text/plain": [
       "  0%|          | 0/12 [00:00<?, ?it/s]"
      ]
     },
     "metadata": {},
     "output_type": "display_data"
    },
    {
     "data": {
      "application/vnd.jupyter.widget-view+json": {
       "model_id": "",
       "version_major": 2,
       "version_minor": 0
      },
      "text/plain": [
       "  0%|          | 0/12 [00:00<?, ?it/s]"
      ]
     },
     "metadata": {},
     "output_type": "display_data"
    },
    {
     "name": "stdout",
     "output_type": "stream",
     "text": [
      "Graph is not connected enough to compute absolute values\n",
      "Generating the FEMap for target pde10 with data OpenFF-1.2 was not possible. division by zero\n",
      "Generating the FEMap for target pde10 with data OpenFF-1.2_converged was not possible. division by zero\n",
      "Graph is not connected enough to compute absolute values\n"
     ]
    },
    {
     "data": {
      "application/vnd.jupyter.widget-view+json": {
       "model_id": "",
       "version_major": 2,
       "version_minor": 0
      },
      "text/plain": [
       "  0%|          | 0/12 [00:00<?, ?it/s]"
      ]
     },
     "metadata": {},
     "output_type": "display_data"
    },
    {
     "name": "stdout",
     "output_type": "stream",
     "text": [
      "Graph is not connected enough to compute absolute values\n",
      "Graph is not connected enough to compute absolute values\n",
      "Graph is not connected enough to compute absolute values\n"
     ]
    },
    {
     "data": {
      "application/vnd.jupyter.widget-view+json": {
       "model_id": "",
       "version_major": 2,
       "version_minor": 0
      },
      "text/plain": [
       "  0%|          | 0/12 [00:00<?, ?it/s]"
      ]
     },
     "metadata": {},
     "output_type": "display_data"
    },
    {
     "name": "stdout",
     "output_type": "stream",
     "text": [
      "Graph is not connected enough to compute absolute values\n",
      "Graph is not connected enough to compute absolute values\n",
      "Graph is not connected enough to compute absolute values\n"
     ]
    },
    {
     "data": {
      "application/vnd.jupyter.widget-view+json": {
       "model_id": "",
       "version_major": 2,
       "version_minor": 0
      },
      "text/plain": [
       "  0%|          | 0/12 [00:00<?, ?it/s]"
      ]
     },
     "metadata": {},
     "output_type": "display_data"
    }
   ],
   "source": [
    "femap = {}\n",
    "with tempfile.TemporaryDirectory() as tmpdirname:\n",
    "    for target in tqdm(targets.target_dict):\n",
    "        femap[target] = {}\n",
    "        ligSet = ligands.LigandSet(target)\n",
    "        for idx in tqdm(identifiers[1:], leave=False):\n",
    "            with open(os.path.join(tmpdirname, f'{target}.csv'), 'w') as fo:\n",
    "                fo.write('# Experimental block\\n'\\\n",
    "                    '# Ligand, expt_DDG, expt_dDDG\\n'\n",
    "                    )\n",
    "                df = ligSet.get_dataframe(columns=['name', 'DerivedMeasurement'])\n",
    "                df.columns = df.columns.droplevel(0)\n",
    "                df.index = df[''].apply(lambda x: x.replace('lig_', ''))\n",
    "                df = df.drop(labels='', axis=1)\n",
    "                df['dg'] = df['dg'].apply(lambda x: x.to('kilocalories / mole').magnitude)\n",
    "                df['e_dg'] = df['e_dg'].apply(lambda x: x.to('kilocalories / mole').magnitude)\n",
    "#                 print(df)\n",
    "                fo.write(df.to_csv(header=None))\n",
    "                fo.write('\\n')\n",
    "\n",
    "                fo.write('# Calculated block\\n'\\\n",
    "                '# Ligand1,Ligand2, calc_DDG, calc_dDDG(MBAR), calc_dDDG(additional)\\n'\n",
    "                        )\n",
    "                d = all_edges.loc[all_edges['target']==target,:]\n",
    "                for key, row in d.iterrows():\n",
    "                    if not np.isnan(row[f'DDG_{idx}']):\n",
    "                        DDG = unit_registry.Quantity(row[f'DDG_{idx}'], row['unit']).to('kilocalories/mole').magnitude\n",
    "                        dDDG = unit_registry.Quantity(row[f'dDDG_{idx}'], row['unit']).to('kilocalories/mole').magnitude\n",
    "                        fo.write(f\"{row['ligandA']}, {row['ligandB']}, {DDG}, {dDDG}, 0.0\\n\")\n",
    "            filename=os.path.join(tmpdirname, f'{target}.csv')\n",
    "            try:\n",
    "                femap[target][idx] = wrangle.FEMap(filename)\n",
    "            except Exception as e:\n",
    "                print(f'Generating the FEMap for target {target} with data {idx} was not possible. {e}')"
   ]
  },
  {
   "cell_type": "code",
   "execution_count": 5,
   "id": "2c7f73bd",
   "metadata": {},
   "outputs": [],
   "source": [
    "def get_dg_dataframe(femaps, idx=[], centralizing=False, shift=None):\n",
    "    ref_idx='Exp.'\n",
    "    df = pd.DataFrame(columns=['ligand', 'target', f'DG_{ref_idx}', f'dDG_{ref_idx}'] + [f'DG_{i}' for i in idx] + [f'dDG_{i}' for i in idx])\n",
    "    for target_name, target_maps in femaps.items():\n",
    "        ligSet = ligands.LigandSet(target_name).get_dataframe()\n",
    "        ligSet.index=ligSet['name']\n",
    "        for i in idx:\n",
    "            if i in target_maps:\n",
    "                graph = target_maps[i].graph\n",
    "            else:\n",
    "                continue\n",
    "            if not target_maps[i].check_weakly_connected():\n",
    "                print(f'{target_name} {i} weakly connected')\n",
    "                continue\n",
    "            n = [x[1]['name'] for x in graph.nodes(data=True)]\n",
    "            x = np.asarray([x[1]['exp_DG'] for x in graph.nodes(data=True)])\n",
    "            xerr = np.asarray([x[1]['exp_dDG'] for x in graph.nodes(data=True)])            \n",
    "            y = np.asarray([x[1]['calc_DG'] for x in graph.nodes(data=True)])\n",
    "            yerr = np.asarray([x[1]['calc_dDG'] for x in graph.nodes(data=True)])\n",
    "            \n",
    "            # centralising\n",
    "            # this should be replaced by providing one experimental result\n",
    "            if shift is None:\n",
    "                shift = np.mean(x)\n",
    "            if centralizing == True:\n",
    "                x = x - np.mean(x) + shift\n",
    "                y = y - np.mean(y) + shift \n",
    "            y = y + np.mean(x) - np.mean(y)\n",
    "            for nn, xx, xxerr, yy, yyerr in zip(n, x, xerr, y, yerr):\n",
    "                df.loc[f\"{target_name}_lig_{nn}\", \"ligand\"] = nn\n",
    "                df.loc[f\"{target_name}_lig_{nn}\", f\"DG_{i}\"] = yy\n",
    "                df.loc[f\"{target_name}_lig_{nn}\", f\"dDG_{i}\"] = yyerr\n",
    "                df.loc[f\"{target_name}_lig_{nn}\", f\"DG_{ref_idx}\"] = xx\n",
    "                df.loc[f\"{target_name}_lig_{nn}\", f\"dDG_{ref_idx}\"] = xxerr\n",
    "                df.loc[f\"{target_name}_lig_{nn}\", f\"target\"] = target_name\n",
    "    for i, col in df.iteritems():\n",
    "        if i.startswith(\"DG\") or i.startswith(\"dDG\"):\n",
    "            df[i] = df[i].astype('float')\n",
    "    return df"
   ]
  },
  {
   "cell_type": "code",
   "execution_count": 6,
   "id": "d2f4df08",
   "metadata": {},
   "outputs": [
    {
     "name": "stdout",
     "output_type": "stream",
     "text": [
      "pde2 OpenFF-2.0_converged weakly connected\n",
      "eg5 OpenFF-2.0_converged weakly connected\n",
      "pde10 OpenFF-1.0_converged weakly connected\n",
      "pde10 OpenFF-2.0_converged weakly connected\n",
      "shp2 OpenFF-1.0_converged weakly connected\n",
      "shp2 OpenFF-1.2_converged weakly connected\n",
      "shp2 OpenFF-2.0_converged weakly connected\n",
      "syk OpenFF-1.0_converged weakly connected\n",
      "syk OpenFF-1.2_converged weakly connected\n",
      "syk OpenFF-2.0_converged weakly connected\n"
     ]
    },
    {
     "data": {
      "text/html": [
       "<div>\n",
       "<style scoped>\n",
       "    .dataframe tbody tr th:only-of-type {\n",
       "        vertical-align: middle;\n",
       "    }\n",
       "\n",
       "    .dataframe tbody tr th {\n",
       "        vertical-align: top;\n",
       "    }\n",
       "\n",
       "    .dataframe thead th {\n",
       "        text-align: right;\n",
       "    }\n",
       "</style>\n",
       "<table border=\"1\" class=\"dataframe\">\n",
       "  <thead>\n",
       "    <tr style=\"text-align: right;\">\n",
       "      <th></th>\n",
       "      <th>ligand</th>\n",
       "      <th>target</th>\n",
       "      <th>DG_Exp.</th>\n",
       "      <th>dDG_Exp.</th>\n",
       "      <th>DG_OpenFF-1.0</th>\n",
       "      <th>DG_OpenFF-1.0_converged</th>\n",
       "      <th>DG_OpenFF-1.2</th>\n",
       "      <th>DG_OpenFF-1.2_converged</th>\n",
       "      <th>DG_OpenFF-2.0</th>\n",
       "      <th>DG_OpenFF-2.0_converged</th>\n",
       "      <th>...</th>\n",
       "      <th>dDG_OpenFF-1.2</th>\n",
       "      <th>dDG_OpenFF-1.2_converged</th>\n",
       "      <th>dDG_OpenFF-2.0</th>\n",
       "      <th>dDG_OpenFF-2.0_converged</th>\n",
       "      <th>dDG_OPLS3e</th>\n",
       "      <th>dDG_GAFF2</th>\n",
       "      <th>dDG_cGenFF</th>\n",
       "      <th>dDG_Consensus_OpenFF_GAFF2_cGenFF</th>\n",
       "      <th>dDG_Consensus_OpenFF_GAFF2</th>\n",
       "      <th>dDG_Consensus_all</th>\n",
       "    </tr>\n",
       "  </thead>\n",
       "  <tbody>\n",
       "    <tr>\n",
       "      <th>jnk1_lig_17124-1</th>\n",
       "      <td>17124-1</td>\n",
       "      <td>jnk1</td>\n",
       "      <td>-9.76</td>\n",
       "      <td>0.29</td>\n",
       "      <td>-10.498849</td>\n",
       "      <td>-10.410240</td>\n",
       "      <td>NaN</td>\n",
       "      <td>NaN</td>\n",
       "      <td>-11.647484</td>\n",
       "      <td>-11.641639</td>\n",
       "      <td>...</td>\n",
       "      <td>NaN</td>\n",
       "      <td>NaN</td>\n",
       "      <td>0.126579</td>\n",
       "      <td>0.127663</td>\n",
       "      <td>0.052150</td>\n",
       "      <td>0.193056</td>\n",
       "      <td>0.174543</td>\n",
       "      <td>0.245633</td>\n",
       "      <td>0.299317</td>\n",
       "      <td>0.103591</td>\n",
       "    </tr>\n",
       "    <tr>\n",
       "      <th>jnk1_lig_18631-1</th>\n",
       "      <td>18631-1</td>\n",
       "      <td>jnk1</td>\n",
       "      <td>-9.50</td>\n",
       "      <td>0.23</td>\n",
       "      <td>-9.208652</td>\n",
       "      <td>-9.114652</td>\n",
       "      <td>NaN</td>\n",
       "      <td>NaN</td>\n",
       "      <td>-9.480523</td>\n",
       "      <td>-9.474986</td>\n",
       "      <td>...</td>\n",
       "      <td>NaN</td>\n",
       "      <td>NaN</td>\n",
       "      <td>0.094876</td>\n",
       "      <td>0.096155</td>\n",
       "      <td>0.049214</td>\n",
       "      <td>0.402302</td>\n",
       "      <td>0.168230</td>\n",
       "      <td>0.325155</td>\n",
       "      <td>0.320194</td>\n",
       "      <td>0.127863</td>\n",
       "    </tr>\n",
       "    <tr>\n",
       "      <th>jnk1_lig_18634-1</th>\n",
       "      <td>18634-1</td>\n",
       "      <td>jnk1</td>\n",
       "      <td>-10.09</td>\n",
       "      <td>0.04</td>\n",
       "      <td>-10.098436</td>\n",
       "      <td>-10.020989</td>\n",
       "      <td>NaN</td>\n",
       "      <td>NaN</td>\n",
       "      <td>-11.048733</td>\n",
       "      <td>-11.048163</td>\n",
       "      <td>...</td>\n",
       "      <td>NaN</td>\n",
       "      <td>NaN</td>\n",
       "      <td>0.126496</td>\n",
       "      <td>0.127282</td>\n",
       "      <td>0.044415</td>\n",
       "      <td>0.132499</td>\n",
       "      <td>0.185769</td>\n",
       "      <td>0.223787</td>\n",
       "      <td>0.261344</td>\n",
       "      <td>0.093516</td>\n",
       "    </tr>\n",
       "    <tr>\n",
       "      <th>jnk1_lig_18626-1</th>\n",
       "      <td>18626-1</td>\n",
       "      <td>jnk1</td>\n",
       "      <td>-8.95</td>\n",
       "      <td>0.14</td>\n",
       "      <td>-8.185239</td>\n",
       "      <td>-8.133063</td>\n",
       "      <td>NaN</td>\n",
       "      <td>NaN</td>\n",
       "      <td>-8.077112</td>\n",
       "      <td>-8.077298</td>\n",
       "      <td>...</td>\n",
       "      <td>NaN</td>\n",
       "      <td>NaN</td>\n",
       "      <td>0.080243</td>\n",
       "      <td>0.081041</td>\n",
       "      <td>0.032254</td>\n",
       "      <td>0.107774</td>\n",
       "      <td>0.141012</td>\n",
       "      <td>0.165191</td>\n",
       "      <td>0.146609</td>\n",
       "      <td>0.066499</td>\n",
       "    </tr>\n",
       "    <tr>\n",
       "      <th>jnk1_lig_18624-1</th>\n",
       "      <td>18624-1</td>\n",
       "      <td>jnk1</td>\n",
       "      <td>-8.57</td>\n",
       "      <td>0.15</td>\n",
       "      <td>-7.995236</td>\n",
       "      <td>-7.936688</td>\n",
       "      <td>NaN</td>\n",
       "      <td>NaN</td>\n",
       "      <td>-7.067734</td>\n",
       "      <td>-7.068933</td>\n",
       "      <td>...</td>\n",
       "      <td>NaN</td>\n",
       "      <td>NaN</td>\n",
       "      <td>0.078940</td>\n",
       "      <td>0.079947</td>\n",
       "      <td>0.034820</td>\n",
       "      <td>0.116900</td>\n",
       "      <td>0.140377</td>\n",
       "      <td>0.178736</td>\n",
       "      <td>0.151406</td>\n",
       "      <td>0.068561</td>\n",
       "    </tr>\n",
       "  </tbody>\n",
       "</table>\n",
       "<p>5 rows × 28 columns</p>\n",
       "</div>"
      ],
      "text/plain": [
       "                   ligand target  DG_Exp.  dDG_Exp.  DG_OpenFF-1.0  \\\n",
       "jnk1_lig_17124-1  17124-1   jnk1    -9.76      0.29     -10.498849   \n",
       "jnk1_lig_18631-1  18631-1   jnk1    -9.50      0.23      -9.208652   \n",
       "jnk1_lig_18634-1  18634-1   jnk1   -10.09      0.04     -10.098436   \n",
       "jnk1_lig_18626-1  18626-1   jnk1    -8.95      0.14      -8.185239   \n",
       "jnk1_lig_18624-1  18624-1   jnk1    -8.57      0.15      -7.995236   \n",
       "\n",
       "                  DG_OpenFF-1.0_converged  DG_OpenFF-1.2  \\\n",
       "jnk1_lig_17124-1               -10.410240            NaN   \n",
       "jnk1_lig_18631-1                -9.114652            NaN   \n",
       "jnk1_lig_18634-1               -10.020989            NaN   \n",
       "jnk1_lig_18626-1                -8.133063            NaN   \n",
       "jnk1_lig_18624-1                -7.936688            NaN   \n",
       "\n",
       "                  DG_OpenFF-1.2_converged  DG_OpenFF-2.0  \\\n",
       "jnk1_lig_17124-1                      NaN     -11.647484   \n",
       "jnk1_lig_18631-1                      NaN      -9.480523   \n",
       "jnk1_lig_18634-1                      NaN     -11.048733   \n",
       "jnk1_lig_18626-1                      NaN      -8.077112   \n",
       "jnk1_lig_18624-1                      NaN      -7.067734   \n",
       "\n",
       "                  DG_OpenFF-2.0_converged  ...  dDG_OpenFF-1.2  \\\n",
       "jnk1_lig_17124-1               -11.641639  ...             NaN   \n",
       "jnk1_lig_18631-1                -9.474986  ...             NaN   \n",
       "jnk1_lig_18634-1               -11.048163  ...             NaN   \n",
       "jnk1_lig_18626-1                -8.077298  ...             NaN   \n",
       "jnk1_lig_18624-1                -7.068933  ...             NaN   \n",
       "\n",
       "                  dDG_OpenFF-1.2_converged  dDG_OpenFF-2.0  \\\n",
       "jnk1_lig_17124-1                       NaN        0.126579   \n",
       "jnk1_lig_18631-1                       NaN        0.094876   \n",
       "jnk1_lig_18634-1                       NaN        0.126496   \n",
       "jnk1_lig_18626-1                       NaN        0.080243   \n",
       "jnk1_lig_18624-1                       NaN        0.078940   \n",
       "\n",
       "                  dDG_OpenFF-2.0_converged  dDG_OPLS3e  dDG_GAFF2  dDG_cGenFF  \\\n",
       "jnk1_lig_17124-1                  0.127663    0.052150   0.193056    0.174543   \n",
       "jnk1_lig_18631-1                  0.096155    0.049214   0.402302    0.168230   \n",
       "jnk1_lig_18634-1                  0.127282    0.044415   0.132499    0.185769   \n",
       "jnk1_lig_18626-1                  0.081041    0.032254   0.107774    0.141012   \n",
       "jnk1_lig_18624-1                  0.079947    0.034820   0.116900    0.140377   \n",
       "\n",
       "                  dDG_Consensus_OpenFF_GAFF2_cGenFF  \\\n",
       "jnk1_lig_17124-1                           0.245633   \n",
       "jnk1_lig_18631-1                           0.325155   \n",
       "jnk1_lig_18634-1                           0.223787   \n",
       "jnk1_lig_18626-1                           0.165191   \n",
       "jnk1_lig_18624-1                           0.178736   \n",
       "\n",
       "                  dDG_Consensus_OpenFF_GAFF2  dDG_Consensus_all  \n",
       "jnk1_lig_17124-1                    0.299317           0.103591  \n",
       "jnk1_lig_18631-1                    0.320194           0.127863  \n",
       "jnk1_lig_18634-1                    0.261344           0.093516  \n",
       "jnk1_lig_18626-1                    0.146609           0.066499  \n",
       "jnk1_lig_18624-1                    0.151406           0.068561  \n",
       "\n",
       "[5 rows x 28 columns]"
      ]
     },
     "execution_count": 6,
     "metadata": {},
     "output_type": "execute_result"
    }
   ],
   "source": [
    "all_ligands = get_dg_dataframe(femap, idx=identifiers[1:])\n",
    "all_ligands.head()"
   ]
  },
  {
   "cell_type": "code",
   "execution_count": 7,
   "id": "cb656aa9",
   "metadata": {},
   "outputs": [],
   "source": [
    "all_ligands.to_csv('03b_all_ligands_all_ffs.csv')"
   ]
  },
  {
   "cell_type": "code",
   "execution_count": null,
   "id": "09a2e959",
   "metadata": {},
   "outputs": [],
   "source": []
  }
 ],
 "metadata": {
  "kernelspec": {
   "display_name": "Python 3 (ipykernel)",
   "language": "python",
   "name": "python3"
  },
  "language_info": {
   "codemirror_mode": {
    "name": "ipython",
    "version": 3
   },
   "file_extension": ".py",
   "mimetype": "text/x-python",
   "name": "python",
   "nbconvert_exporter": "python",
   "pygments_lexer": "ipython3",
   "version": "3.7.12"
  }
 },
 "nbformat": 4,
 "nbformat_minor": 5
}
