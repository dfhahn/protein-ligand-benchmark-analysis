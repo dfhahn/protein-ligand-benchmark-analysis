{
 "cells": [
  {
   "cell_type": "markdown",
   "metadata": {},
   "source": [
    "# Copy simulation results into the analysis repository\n",
    "This notebook copies data from the simulation directory into the repository. If you have not run the simulations yourself you can skip this notebook and use the data in the repository instead. "
   ]
  },
  {
   "cell_type": "code",
   "execution_count": 1,
   "metadata": {},
   "outputs": [
    {
     "name": "stderr",
     "output_type": "stream",
     "text": [
      "Warning: Unable to load toolkit 'OpenEye Toolkit'. The Open Force Field Toolkit does not require the OpenEye Toolkits, and can use RDKit/AmberTools instead. However, if you have a valid license for the OpenEye Toolkits, consider installing them for faster performance and additional file format support: https://docs.eyesopen.com/toolkits/python/quickstart-python/linuxosx.html OpenEye offers free Toolkit licenses for academics: https://www.eyesopen.com/academic-licensing\n"
     ]
    },
    {
     "ename": "AttributeError",
     "evalue": "'super' object has no attribute '_ipython_display_'",
     "output_type": "error",
     "traceback": [
      "\u001b[0;31m---------------------------------------------------------------------------\u001b[0m",
      "\u001b[0;31mAttributeError\u001b[0m                            Traceback (most recent call last)",
      "\u001b[0;32m~/miniconda3/envs/off/lib/python3.7/site-packages/IPython/core/formatters.py\u001b[0m in \u001b[0;36m__call__\u001b[0;34m(self, obj)\u001b[0m\n\u001b[1;32m    916\u001b[0m             \u001b[0mmethod\u001b[0m \u001b[0;34m=\u001b[0m \u001b[0mget_real_method\u001b[0m\u001b[0;34m(\u001b[0m\u001b[0mobj\u001b[0m\u001b[0;34m,\u001b[0m \u001b[0mself\u001b[0m\u001b[0;34m.\u001b[0m\u001b[0mprint_method\u001b[0m\u001b[0;34m)\u001b[0m\u001b[0;34m\u001b[0m\u001b[0;34m\u001b[0m\u001b[0m\n\u001b[1;32m    917\u001b[0m             \u001b[0;32mif\u001b[0m \u001b[0mmethod\u001b[0m \u001b[0;32mis\u001b[0m \u001b[0;32mnot\u001b[0m \u001b[0;32mNone\u001b[0m\u001b[0;34m:\u001b[0m\u001b[0;34m\u001b[0m\u001b[0;34m\u001b[0m\u001b[0m\n\u001b[0;32m--> 918\u001b[0;31m                 \u001b[0mmethod\u001b[0m\u001b[0;34m(\u001b[0m\u001b[0;34m)\u001b[0m\u001b[0;34m\u001b[0m\u001b[0;34m\u001b[0m\u001b[0m\n\u001b[0m\u001b[1;32m    919\u001b[0m                 \u001b[0;32mreturn\u001b[0m \u001b[0;32mTrue\u001b[0m\u001b[0;34m\u001b[0m\u001b[0;34m\u001b[0m\u001b[0m\n\u001b[1;32m    920\u001b[0m \u001b[0;34m\u001b[0m\u001b[0m\n",
      "\u001b[0;32m~/miniconda3/envs/off/lib/python3.7/site-packages/nglview/color.py\u001b[0m in \u001b[0;36m_ipython_display_\u001b[0;34m(self, **kwargs)\u001b[0m\n\u001b[1;32m     52\u001b[0m         \u001b[0;32mif\u001b[0m \u001b[0mself\u001b[0m\u001b[0;34m.\u001b[0m\u001b[0m_ready\u001b[0m\u001b[0;34m:\u001b[0m\u001b[0;34m\u001b[0m\u001b[0;34m\u001b[0m\u001b[0m\n\u001b[1;32m     53\u001b[0m             \u001b[0;32mreturn\u001b[0m\u001b[0;34m\u001b[0m\u001b[0;34m\u001b[0m\u001b[0m\n\u001b[0;32m---> 54\u001b[0;31m         \u001b[0msuper\u001b[0m\u001b[0;34m(\u001b[0m\u001b[0;34m)\u001b[0m\u001b[0;34m.\u001b[0m\u001b[0m_ipython_display_\u001b[0m\u001b[0;34m(\u001b[0m\u001b[0;34m**\u001b[0m\u001b[0mkwargs\u001b[0m\u001b[0;34m)\u001b[0m\u001b[0;34m\u001b[0m\u001b[0;34m\u001b[0m\u001b[0m\n\u001b[0m\u001b[1;32m     55\u001b[0m \u001b[0;34m\u001b[0m\u001b[0m\n\u001b[1;32m     56\u001b[0m     \u001b[0;32mdef\u001b[0m \u001b[0madd_selection_scheme\u001b[0m\u001b[0;34m(\u001b[0m\u001b[0mself\u001b[0m\u001b[0;34m,\u001b[0m \u001b[0mscheme_id\u001b[0m\u001b[0;34m,\u001b[0m \u001b[0marg\u001b[0m\u001b[0;34m)\u001b[0m\u001b[0;34m:\u001b[0m\u001b[0;34m\u001b[0m\u001b[0;34m\u001b[0m\u001b[0m\n",
      "\u001b[0;31mAttributeError\u001b[0m: 'super' object has no attribute '_ipython_display_'"
     ]
    },
    {
     "data": {
      "application/vnd.jupyter.widget-view+json": {
       "model_id": "",
       "version_major": 2,
       "version_minor": 0
      },
      "text/plain": [
       "_ColormakerRegistry()"
      ]
     },
     "metadata": {},
     "output_type": "display_data"
    }
   ],
   "source": [
    "import os\n",
    "import shutil\n",
    "import sys\n",
    "sys.path.append(os.path.join(os.getcwd(), '..'))\n",
    "\n",
    "from PLBenchmarks import targets, ligands, edges\n",
    "from tqdm.notebook import tqdm\n",
    "\n",
    "import benchmarkpl\n",
    "path = benchmarkpl.__path__[0]"
   ]
  },
  {
   "cell_type": "markdown",
   "metadata": {},
   "source": [
    "# Set path of simulation directory\n",
    "Customize here if you have a specific simulation path"
   ]
  },
  {
   "cell_type": "code",
   "execution_count": 2,
   "metadata": {},
   "outputs": [],
   "source": [
    "targets.set_data_dir('../../../02_benchmark_calculations/')"
   ]
  },
  {
   "cell_type": "markdown",
   "metadata": {},
   "source": [
    "# Number of targets, ligands and edges in the data set"
   ]
  },
  {
   "cell_type": "code",
   "execution_count": 3,
   "metadata": {},
   "outputs": [
    {
     "name": "stdout",
     "output_type": "stream",
     "text": [
      "Target       Num Ligs  Num Edges\n",
      "---------------------------------\n"
     ]
    },
    {
     "data": {
      "application/vnd.jupyter.widget-view+json": {
       "model_id": "80df1f0d958a4dff887d4bb72242d797",
       "version_major": 2,
       "version_minor": 0
      },
      "text/plain": [
       "  0%|          | 0/29 [00:00<?, ?it/s]"
      ]
     },
     "metadata": {},
     "output_type": "display_data"
    },
    {
     "name": "stdout",
     "output_type": "stream",
     "text": [
      "jnk1               21         31\n",
      "pde2               21         34\n",
      "thrombin           11         16\n",
      "p38                34         56\n",
      "ptp1b              23         49\n",
      "galectin            8          7\n",
      "cdk2               16         25\n",
      "cmet               24         57\n",
      "cmet_original         12         25\n",
      "mcl1               42         71\n",
      "mcl1_alt           42         24\n",
      "bace               36         58\n",
      "bace_hunt          32         60\n",
      "bace_p2            12         26\n",
      "tyk2               16         24\n",
      "ros1               28         61\n",
      "eg5                28         65\n",
      "eg5_alt            28          6\n",
      "cdk8               33         54\n",
      "hif2a              42         92\n",
      "hif2a_alt          42          3\n",
      "pfkfb3             40         66\n",
      "pfkfb3_alt         40          1\n",
      "pde10              35         59\n",
      "pde10_alt          35          3\n",
      "shp2               26         56\n",
      "syk                44        101\n",
      "tnks2              27         60\n",
      "bace_2             36          1\n",
      "---------------------------------\n",
      "total             834       1191\n"
     ]
    }
   ],
   "source": [
    "nligs, nedgs = 0, 0\n",
    "print(f'{\"Target\":10s} {\"Num Ligs\":>10s} {\"Num Edges\":>10s}')\n",
    "print(33 * '-')\n",
    "for target in tqdm(targets.target_dict):\n",
    "    print(f'{target:10s} {len(ligands.LigandSet(target)):10d} {len(edges.EdgeSet(target)):10d}')\n",
    "    nligs += len(ligands.LigandSet(target))\n",
    "    nedgs += len(edges.EdgeSet(target))\n",
    "print(33 * '-')\n",
    "print(f'{\"total\":10s} {nligs:10d} {nedgs:10d}')"
   ]
  },
  {
   "cell_type": "markdown",
   "metadata": {},
   "source": [
    "# Copy data about targets, ligands, edges to repository\n",
    "### Attention: Data is deleted before copying a new version. Only execute the cell if you know what you are doing."
   ]
  },
  {
   "cell_type": "code",
   "execution_count": 4,
   "metadata": {},
   "outputs": [
    {
     "data": {
      "application/vnd.jupyter.widget-view+json": {
       "model_id": "",
       "version_major": 2,
       "version_minor": 0
      },
      "text/plain": [
       "  0%|          | 0/29 [00:00<?, ?it/s]"
      ]
     },
     "metadata": {},
     "output_type": "display_data"
    }
   ],
   "source": [
    "# target_yaml =  os.path.join(targets.data_path, 'targets.yml')\n",
    "# dest_path = os.path.join(path)\n",
    "# os.makedirs(dest_path, exist_ok=True)\n",
    "# if os.path.exists(target_yaml):\n",
    "#     shutil.copy(target_yaml,\n",
    "#                 dest_path\n",
    "#                )\n",
    "# else:\n",
    "#     print(f'File {target_yaml} does not exist.')\n",
    "for target in tqdm(targets.target_dict):\n",
    "    dest_path = os.path.join(path, targets.get_target_dir(target), '00_data')\n",
    "    data_path = os.path.join(targets.data_path, \n",
    "                             targets.get_target_dir(target), \n",
    "                             '00_data'\n",
    "                            )\n",
    "    if os.path.exists(data_path):\n",
    "        if os.path.exists(dest_path):\n",
    "            shutil.rmtree(dest_path)\n",
    "        shutil.copytree(data_path,\n",
    "                        dest_path\n",
    "                       )\n",
    "    else:\n",
    "        print(f'Data path does not exist for target {target}')"
   ]
  },
  {
   "cell_type": "markdown",
   "metadata": {},
   "source": [
    "\n",
    "# pmx calculations with openFF parameters (Hahn et al.)\n",
    "Copies raw result files from calculations into repository path"
   ]
  },
  {
   "cell_type": "code",
   "execution_count": 6,
   "metadata": {},
   "outputs": [],
   "source": [
    "# function to retrieve data from PLBenchmarks calculations\n",
    "def copyRawResults(target, forcefield='openff-1.0.0.offxml'):\n",
    "    # copy raw dat file\n",
    "    file_path = os.path.join(targets.data_path, \n",
    "                             targets.get_target_dir(target), \n",
    "                             '06_pmx',\n",
    "                             f'{forcefield}',\n",
    "                             'results', \n",
    "                             f'{target}_{forcefield}.dat'\n",
    "                            )\n",
    "    if not os.path.exists(file_path):\n",
    "        print(f'File {file_path} does not exist.')\n",
    "    else:\n",
    "        # copy file to backup directory\n",
    "        shutil.copy(file_path, \n",
    "                    os.path.join(path, '..', '00_data', 'input')\n",
    "                   )\n",
    "    # copy csv file with more detailed information\n",
    "    file_path = os.path.join(targets.data_path, \n",
    "                             targets.get_target_dir(target), \n",
    "                             '06_pmx',\n",
    "                             f'{forcefield}',\n",
    "                             'results', \n",
    "                             f'{target}_{forcefield}.csv'\n",
    "                            )\n",
    "    if not os.path.exists(file_path):\n",
    "        print(f'File {file_path} does not exist.')\n",
    "    else:\n",
    "        # copy file to backup directory\n",
    "        shutil.copy(file_path, \n",
    "                    os.path.join(path, '..', '00_data', 'input')\n",
    "                   )"
   ]
  },
  {
   "cell_type": "code",
   "execution_count": 7,
   "metadata": {},
   "outputs": [],
   "source": [
    "# choose forcefields here\n",
    "forcefields = ['openff-1.0.0.offxml']"
   ]
  },
  {
   "cell_type": "code",
   "execution_count": 8,
   "metadata": {},
   "outputs": [
    {
     "data": {
      "application/vnd.jupyter.widget-view+json": {
       "model_id": "379bf9524c974c9c8e005d109358bece",
       "version_major": 2,
       "version_minor": 0
      },
      "text/plain": [
       "  0%|          | 0/29 [00:00<?, ?it/s]"
      ]
     },
     "metadata": {},
     "output_type": "display_data"
    }
   ],
   "source": [
    "for target in tqdm(targets.target_dict):\n",
    "    for forcefield in forcefields:\n",
    "        copyRawResults(target, forcefield)"
   ]
  },
  {
   "cell_type": "code",
   "execution_count": null,
   "metadata": {},
   "outputs": [],
   "source": []
  },
  {
   "cell_type": "code",
   "execution_count": null,
   "metadata": {},
   "outputs": [],
   "source": []
  }
 ],
 "metadata": {
  "kernelspec": {
   "display_name": "Python 3 (ipykernel)",
   "language": "python",
   "name": "python3"
  },
  "language_info": {
   "codemirror_mode": {
    "name": "ipython",
    "version": 3
   },
   "file_extension": ".py",
   "mimetype": "text/x-python",
   "name": "python",
   "nbconvert_exporter": "python",
   "pygments_lexer": "ipython3",
   "version": "3.7.12"
  }
 },
 "nbformat": 4,
 "nbformat_minor": 4
}
